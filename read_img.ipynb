{
 "cells": [
  {
   "cell_type": "code",
   "execution_count": 11,
   "metadata": {
    "collapsed": true
   },
   "outputs": [],
   "source": [
    "import tensorflow as tf\n",
    "import numpy as np\n",
    "import os\n",
    "import cv2\n",
    "import matplotlib.pyplot as plt\n",
    "import errno"
   ]
  },
  {
   "cell_type": "code",
   "execution_count": 12,
   "metadata": {
    "collapsed": true
   },
   "outputs": [],
   "source": [
    "def read_img(data_dir):\n",
    "    img = cv2.imread(data_dir, cv2.IMREAD_COLOR) #cv读图更快一些，但是是bgr排布\n",
    "    if img is None:\n",
    "        raise OSError(errno.ENOENT, \"No such file\", path)\n",
    "    img = img.astype(np.float32)\n",
    "    img = preprocess(img)\n",
    "    return img\n",
    "\n",
    "def show_img(img):\n",
    "    img = img.astype(np.uint8)\n",
    "    plt.imshow(img)\n",
    "    plt.axis('off') # 不显示坐标轴\n",
    "    plt.show()\n",
    "\n",
    "def preprocess(img):\n",
    "    img = img[...,::-1]#bgr to rgb\n",
    "    img = cv2.resize(img, dsize=(224, 224), interpolation=cv2.INTER_AREA)\n",
    "    img = img[np.newaxis,:,:,:]\n",
    "    img = img/255.0\n",
    "    #img -= np.array([123.68, 116.779, 103.939]).reshape((1,1,1,3))\n",
    "    return img\n",
    "\n",
    "def tfDataAug(input_image,batch_size=1):\n",
    "    noise = tf.random_normal(shape=tf.shape(input_image), mean=0, stddev=0.2, dtype=tf.float32)\n",
    "    noise_image = tf.cast(input_image, tf.float32)/255.0 + noise\n",
    "    noise_image = tf.clip_by_value(noise_image, 0, 1.0)\n",
    "    #noise_image = noise_image*255.0\n",
    "    image = tf.random_crop(noise_image, size=(batch_size,224,224, 3))\n",
    "    return image\n",
    "\n",
    "def get_img_sample(data_dir,dataAug=False):\n",
    "    if dataAug:\n",
    "        img = cv2.imread(data_dir, cv2.IMREAD_COLOR)\n",
    "        img = img.astype(np.float32)\n",
    "        img = img[...,::-1]\n",
    "        img = cv2.resize(img, dsize=(256, 256), interpolation=cv2.INTER_AREA)\n",
    "        img = img[np.newaxis,:,:,:]\n",
    "    else:\n",
    "        img = read_img(data_dir)\n",
    "        #img = np.stack(img).astype(np.float32)\n",
    "    return img"
   ]
  },
  {
   "cell_type": "code",
   "execution_count": 3,
   "metadata": {},
   "outputs": [
    {
     "data": {
      "image/png": "[encoded data removed]",
      "text/plain": [
       "<matplotlib.figure.Figure at 0x1c933fa3fd0>"
      ]
     },
     "metadata": {},
     "output_type": "display_data"
    },
    {
     "name": "stdout",
     "output_type": "stream",
     "text": [
      "[[  89.93334198   90.7333374    91.53334045]\n",
      " [  94.38667297   95.02667236   95.88000488]\n",
      " [  99.06667328   99.68000031  100.88000488]]\n"
     ]
    }
   ],
   "source": [
    "if __name__=='__main__':\n",
    "    data_dir0 = 'data/train/c0/img_34.jpg'\n",
    "    data_dir1 = 'data/train/c0/img_208.jpg'\n",
    "    data_dir2 = 'data/train/c0/img_262.jpg'\n",
    "    batch_size =3\n",
    "    img =[]\n",
    "    img_tmp0 = get_img_sample(data_dir0,dataAug=True)\n",
    "    img_tmp1 = get_img_sample(data_dir1,dataAug=True)\n",
    "    img_tmp2 = get_img_sample(data_dir2,dataAug=True)\n",
    "    img.append(img_tmp0)\n",
    "    img.append(img_tmp1)\n",
    "    img.append(img_tmp2)\n",
    "    img = np.array(img).reshape(batch_size,256,256,3)\n",
    "    img = tfDataAug(img,batch_size=batch_size)\n",
    "    #img = img - tf.reshape(tf.constant([123.68, 116.779, 103.939]),(1,1,1,3))\n",
    "    with tf.Session() as sess:\n",
    "        tf.global_variables_initializer().run()\n",
    "        img_tmp= sess.run(img)\n",
    "    show_img(img_tmp[2])\n",
    "    print(img_tmp0[0,:3,:3,1])"
   ]
  },
  {
   "cell_type": "code",
   "execution_count": null,
   "metadata": {},
   "outputs": [],
   "source": [
    "def creat_flip_mirror_rotate_img():\n",
    "    driver_imgs_list = pd.read_csv('data/driver_imgs_list.csv')\n",
    "    train_data = driver_imgs_list.values\n",
    "    for i in range(train_data.shape[0]):\n",
    "        img_dir = os.path.join('data','train', train_data[i,1])\n",
    "        img = cv2.imread(img_dir  + '\\\\'+ train_data[i,2], cv2.IMREAD_COLOR)\n",
    "        h_flip = cv2.flip(img, 1)\n",
    "        v_flip = cv2.flip(img, 0)\n",
    "        rotated= np.rot90(img)\n",
    "        h_flip_name = train_data[i,2].split('.')[0] + '_1'+\".jpg\"\n",
    "        v_flip_name = train_data[i,2].split('.')[0] + '_2'+\".jpg\"\n",
    "        rotated_name = train_data[i,2].split('.')[0] + '_3'+\".jpg\"\n",
    "        cv2.imwrite(img_dir + \"\\\\\" + h_flip_name, h_flip)\n",
    "        cv2.imwrite(img_dir + \"\\\\\" + v_flip_name, v_flip)\n",
    "        cv2.imwrite(img_dir + \"\\\\\" + rotated_name, rotated)\n",
    "        driver_imgs_list.loc[len(driver_imgs_list)]=[train_data[i,0],train_data[i,1],h_flip_name]\n",
    "        driver_imgs_list.loc[len(driver_imgs_list)]=[train_data[i,0],train_data[i,1],v_flip_name]\n",
    "        driver_imgs_list.loc[len(driver_imgs_list)]=[train_data[i,0],train_data[i,1],rotated_name]\n",
    "    driver_imgs_list.to_csv('data/Aug_driver_imgs_list.csv',index=False,sep=',')"
   ]
  },
  {
   "cell_type": "code",
   "execution_count": 47,
   "metadata": {},
   "outputs": [],
   "source": []
  },
  {
   "cell_type": "code",
   "execution_count": null,
   "metadata": {},
   "outputs": [],
   "source": []
  },
  {
   "cell_type": "code",
   "execution_count": null,
   "metadata": {},
   "outputs": [],
   "source": []
  },
  {
   "cell_type": "code",
   "execution_count": null,
   "metadata": {},
   "outputs": [],
   "source": []
  },
  {
   "cell_type": "code",
   "execution_count": null,
   "metadata": {
    "collapsed": true
   },
   "outputs": [],
   "source": []
  }
 ],
 "metadata": {
  "kernelspec": {
   "display_name": "Python 3",
   "language": "python",
   "name": "python3"
  },
  "language_info": {
   "codemirror_mode": {
    "name": "ipython",
    "version": 3
   },
   "file_extension": ".py",
   "mimetype": "text/x-python",
   "name": "python",
   "nbconvert_exporter": "python",
   "pygments_lexer": "ipython3",
   "version": "3.6.2"
  }
 },
 "nbformat": 4,
 "nbformat_minor": 2
}
