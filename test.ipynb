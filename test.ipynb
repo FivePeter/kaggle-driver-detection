{
 "cells": [
  {
   "cell_type": "code",
   "execution_count": 1,
   "metadata": {
    "collapsed": true
   },
   "outputs": [],
   "source": [
    "import tensorflow as tf\n",
    "import numpy as np\n",
    "import vgg16_network as net\n",
    "import read_img\n",
    "import pandas as pd\n",
    "import os"
   ]
  },
  {
   "cell_type": "code",
   "execution_count": 2,
   "metadata": {
    "collapsed": true
   },
   "outputs": [],
   "source": [
    "#选4个司机做交叉验证，正则化增加到0.0002\n",
    "checkpoint_dir = '/path/to/save_model/Driver_Detection_ver8/'\n",
    "ckt_name = 'model.ckpt-32288'\n",
    "\n",
    "#0.589\n",
    "#checkpoint_dir = '/path/to/save_model/Driver_Detection_ver3/'\n",
    "#ckt_name = 'model.ckpt-20609'\n",
    "\n",
    "#0.617\n",
    "#checkpoint_dir = '/path/to/save_model/Driver_Detection_ver3/'\n",
    "#ckt_name = 'model.ckpt-27777'\n",
    "\n",
    "#1.274\n",
    "##checkpoint_dir = '/path/to/save_model/Driver_Detection_ver1/'\n",
    "##ckt_name = 'model.ckpt-29009'"
   ]
  },
  {
   "cell_type": "code",
   "execution_count": 3,
   "metadata": {
    "collapsed": true
   },
   "outputs": [],
   "source": [
    "def test(dataAug=False):\n",
    "    test_imgs_list = pd.read_csv('data/sample_submission.csv')\n",
    "    input_data = tf.placeholder(tf.float32,shape=[1,None,None,3],name='img_input')\n",
    "    if dataAug:\n",
    "        print(\"test datas use data aug\")\n",
    "        vgg_input = read_img.tfDataAug(input_data,batch_size=1)\n",
    "    else:\n",
    "        vgg_input = input_data\n",
    "    cls_10 = net.VGG16_test(vgg_input,checkpoint_dir,ckt_name)\n",
    "    cls_10_softmax = tf.nn.softmax(cls_10)\n",
    "    ########################################\n",
    "    config = tf.ConfigProto()\n",
    "    config.gpu_options.allow_growth = True\n",
    "    result =[]\n",
    "    with tf.Session(config=config) as sess:\n",
    "        tf.global_variables_initializer().run()\n",
    "        #for i in range(10):\n",
    "        for i in range(len(test_imgs_list.img)):\n",
    "            img_file = os.path.join('data','test\\\\') + test_imgs_list.img[i]\n",
    "            img = read_img.get_img_sample(img_file,dataAug=dataAug)\n",
    "            if((i+1)%5000==0): print(\"finish\",i)\n",
    "            pre_cls = sess.run(cls_10_softmax,feed_dict={input_data:img})\n",
    "            pre_cls = np.clip(pre_cls,10**-15,1-10**-15)\n",
    "            tmp = [test_imgs_list.img[i],pre_cls[0].tolist()]\n",
    "            result.append(tmp)\n",
    "    return result,pre_cls\n",
    "\n",
    "def cross_val(file_name):\n",
    "    val_imgs_list = pd.read_csv(file_name)\n",
    "    input_data = tf.placeholder(tf.float32,shape=[1,None,None,3],name='img_input')\n",
    "    cls_10 = net.VGG16_test(input_data,checkpoint_dir,ckt_name)\n",
    "    cls_10_softmax = tf.nn.softmax(cls_10)\n",
    "    ########################################\n",
    "    config = tf.ConfigProto()\n",
    "    config.gpu_options.allow_growth = True\n",
    "    error =0\n",
    "    data_num = len(val_imgs_list.img)\n",
    "    with tf.Session(config=config) as sess:\n",
    "        tf.global_variables_initializer().run()\n",
    "        for i in range(len(val_imgs_list.img)):\n",
    "            img_file = os.path.join('data','train', val_imgs_list.classname[i]) + '\\\\'+ val_imgs_list.img[i]\n",
    "            img = read_img.get_img_sample(img_file)\n",
    "            pre_cls = sess.run(cls_10_softmax,feed_dict={input_data:img})\n",
    "            if np.argmax(pre_cls)!=int(val_imgs_list.classname[i][1]): \n",
    "                error+=1\n",
    "    return error,data_num\n",
    "\n",
    "def get_sumbcsv(result,filename):\n",
    "    test = [result[i][1] for i in range(len(result))]\n",
    "    name = [result[i][0] for i in range(len(result))]\n",
    "    c0 = [test[i][0] for i in range(len(test))]\n",
    "    c1 = [test[i][1] for i in range(len(test))]\n",
    "    c2 = [test[i][2] for i in range(len(test))]\n",
    "    c3 = [test[i][3] for i in range(len(test))]\n",
    "    c4 = [test[i][4] for i in range(len(test))]\n",
    "    c5 = [test[i][5] for i in range(len(test))]\n",
    "    c6 = [test[i][6] for i in range(len(test))]\n",
    "    c7 = [test[i][7] for i in range(len(test))]\n",
    "    c8 = [test[i][8] for i in range(len(test))]\n",
    "    c9 = [test[i][9] for i in range(len(test))]\n",
    "    dataframe = pd.DataFrame({'img':name,'c0':c0,'c1':c1,'c2':c2,'c3':c3,'c4':c4,'c5':c5,'c6':c6,'c7':c7,'c8':c8,'c9':c9})\n",
    "    dataframe.to_csv(filename,index=False,sep=',')"
   ]
  },
  {
   "cell_type": "code",
   "execution_count": 4,
   "metadata": {},
   "outputs": [
    {
     "name": "stdout",
     "output_type": "stream",
     "text": [
      "finish 4999\n",
      "finish 9999\n",
      "finish 14999\n",
      "finish 19999\n",
      "finish 24999\n",
      "finish 29999\n",
      "finish 34999\n",
      "finish 39999\n",
      "finish 44999\n",
      "finish 49999\n",
      "finish 54999\n",
      "finish 59999\n",
      "finish 64999\n",
      "finish 69999\n",
      "finish 74999\n"
     ]
    }
   ],
   "source": [
    "res,pre_cls = test(dataAug=False)\n",
    "get_sumbcsv(res,'9_VGG16_l2_flip_mirror_rota90.csv')"
   ]
  },
  {
   "cell_type": "code",
   "execution_count": 9,
   "metadata": {
    "collapsed": true
   },
   "outputs": [],
   "source": [
    "error,data_num = cross_val('cross_validation11.csv')\n",
    "print(error,data_num)"
   ]
  },
  {
   "cell_type": "code",
   "execution_count": 2,
   "metadata": {
    "collapsed": true
   },
   "outputs": [],
   "source": [
    "driver1 = pd.read_csv('submisson/1_VGG16_cro98.csv')\n",
    "driver2 = pd.read_csv('submisson/5_VGG16_loss0.07.csv')\n",
    "driver3 = pd.read_csv('submisson/3_VGG16_cro98_dataAug.csv')\n",
    "driver4 = pd.read_csv('submisson/7_VGG16_l2_0002_subject.csv')\n",
    "driver = (driver1.values[:,:10] + driver2.values[:,:10] + driver3.values[:,:10]+ driver4.values[:,:10])/4\n",
    "name = driver1.values[:,10]\n",
    "c0 = driver[:,0]\n",
    "c1 = driver[:,1]\n",
    "c2 = driver[:,2]\n",
    "c3 = driver[:,3]\n",
    "c4 = driver[:,4]\n",
    "c5 = driver[:,5]\n",
    "c6 = driver[:,6]\n",
    "c7 = driver[:,7]\n",
    "c8 = driver[:,8]\n",
    "c9 = driver[:,9]\n",
    "dataframe = pd.DataFrame({'img':name,'c0':c0,'c1':c1,'c2':c2,'c3':c3,'c4':c4,'c5':c5,'c6':c6,'c7':c7,'c8':c8,'c9':c9})\n",
    "dataframe.to_csv('8_VGG_test.csv',index=False,sep=',')"
   ]
  },
  {
   "cell_type": "code",
   "execution_count": null,
   "metadata": {
    "collapsed": true
   },
   "outputs": [],
   "source": []
  },
  {
   "cell_type": "code",
   "execution_count": null,
   "metadata": {
    "collapsed": true
   },
   "outputs": [],
   "source": []
  },
  {
   "cell_type": "code",
   "execution_count": null,
   "metadata": {
    "collapsed": true
   },
   "outputs": [],
   "source": []
  }
 ],
 "metadata": {
  "kernelspec": {
   "display_name": "Python 3",
   "language": "python",
   "name": "python3"
  },
  "language_info": {
   "codemirror_mode": {
    "name": "ipython",
    "version": 3
   },
   "file_extension": ".py",
   "mimetype": "text/x-python",
   "name": "python",
   "nbconvert_exporter": "python",
   "pygments_lexer": "ipython3",
   "version": "3.6.2"
  }
 },
 "nbformat": 4,
 "nbformat_minor": 2
}
